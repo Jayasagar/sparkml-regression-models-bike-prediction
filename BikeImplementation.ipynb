{
 "cells": [
  {
   "cell_type": "code",
   "execution_count": null,
   "metadata": {},
   "outputs": [],
   "source": [
    "# Imports"
   ]
  },
  {
   "cell_type": "code",
   "execution_count": 1,
   "metadata": {},
   "outputs": [
    {
     "name": "stdout",
     "output_type": "stream",
     "text": [
      "Populating the interactive namespace from numpy and matplotlib\n"
     ]
    }
   ],
   "source": [
    "%pylab inline\n",
    "%matplotlib inline\n",
    "from matplotlib import pyplot as plt\n",
    "\n",
    "from pyspark.mllib.regression import LabeledPoint\n",
    "import numpy as np\n",
    "from pyspark.ml import Pipeline\n",
    "from pyspark.ml.evaluation import RegressionEvaluator\n",
    "from pyspark.ml.tuning import CrossValidator, ParamGridBuilder\n",
    "from pyspark.ml.linalg import Vectors\n",
    "from pyspark.mllib.tree import DecisionTree, DecisionTreeModel\n",
    "from pyspark.mllib.tree import GradientBoostedTrees, GradientBoostedTreesModel\n",
    "from pyspark.mllib.regression import LabeledPoint, LinearRegressionWithSGD, LinearRegressionModel\n",
    "from pyspark.ml.regression import LinearRegression"
   ]
  },
  {
   "cell_type": "code",
   "execution_count": 2,
   "metadata": {},
   "outputs": [],
   "source": [
    "# Load the data into Resilient Distributed Datasets (RDD)"
   ]
  },
  {
   "cell_type": "code",
   "execution_count": 3,
   "metadata": {},
   "outputs": [
    {
     "name": "stdout",
     "output_type": "stream",
     "text": [
      "First record:  ['1', '2011-01-01', '1', '0', '1', '0', '0', '6', '0', '1', '0.24', '0.2879', '0.81', '0', '3', '13', '16']\n",
      "Total number of records:  17379\n"
     ]
    }
   ],
   "source": [
    "path = \"/regression-models/bike-dataset-hour-no-header.csv\"\n",
    "raw_data = sc.textFile(path)\n",
    "num_data = raw_data.count()\n",
    "records = raw_data.map(lambda x: x.split(\",\"))\n",
    "first = records.first()\n",
    "print('First record: ', first)\n",
    "print('Total number of records: ', num_data)\n"
   ]
  },
  {
   "cell_type": "code",
   "execution_count": null,
   "metadata": {},
   "outputs": [],
   "source": [
    "# Cache the results"
   ]
  },
  {
   "cell_type": "code",
   "execution_count": 4,
   "metadata": {},
   "outputs": [
    {
     "data": {
      "text/plain": [
       "PythonRDD[4] at RDD at PythonRDD.scala:48"
      ]
     },
     "execution_count": 4,
     "metadata": {},
     "output_type": "execute_result"
    }
   ],
   "source": [
    "records.cache()"
   ]
  },
  {
   "cell_type": "code",
   "execution_count": 5,
   "metadata": {},
   "outputs": [],
   "source": [
    "# extract each categorical feature into a binary vector form, \n",
    "# we will need to know the feature mapping of each feature value to the index of the nonzero value \n",
    "# in our binary vector"
   ]
  },
  {
   "cell_type": "code",
   "execution_count": 6,
   "metadata": {},
   "outputs": [],
   "source": [
    "def get_mapping(rdd, idx):\n",
    "    print('index:', idx)\n",
    "    return rdd.map(lambda fields: fields[idx]).distinct().zipWithIndex().collectAsMap()"
   ]
  },
  {
   "cell_type": "code",
   "execution_count": 7,
   "metadata": {},
   "outputs": [],
   "source": [
    "# We have two categorical features\n",
    "# 1. genres, is at index : 0\n",
    "# 2. release_year is at index :  1"
   ]
  },
  {
   "cell_type": "code",
   "execution_count": null,
   "metadata": {},
   "outputs": [],
   "source": [
    "print(\"Mapping of first categorical feasture column: %s\" % get_mapping(records, 2))"
   ]
  },
  {
   "cell_type": "code",
   "execution_count": null,
   "metadata": {},
   "outputs": [],
   "source": [
    "# Apply Mapping function to each categorical column"
   ]
  },
  {
   "cell_type": "code",
   "execution_count": 9,
   "metadata": {},
   "outputs": [
    {
     "name": "stdout",
     "output_type": "stream",
     "text": [
      "index: 2\n",
      "index: 3\n",
      "index: 4\n",
      "index: 5\n",
      "index: 6\n",
      "index: 7\n",
      "index: 8\n",
      "index: 9\n"
     ]
    }
   ],
   "source": [
    "mappings = [get_mapping(records, i) for i in range(2,10)]\n",
    "\n",
    "cat_len = sum([len(b) for b in mappings])\n",
    "num_len = len(records.first()[11:15])\n",
    "total_len = num_len + cat_len"
   ]
  },
  {
   "cell_type": "code",
   "execution_count": null,
   "metadata": {},
   "outputs": [],
   "source": [
    "# We now have the mappings for each variable, \n",
    "# and we can see how many values in total we need for our binary vector representation:"
   ]
  },
  {
   "cell_type": "code",
   "execution_count": 10,
   "metadata": {},
   "outputs": [
    {
     "name": "stdout",
     "output_type": "stream",
     "text": [
      "Feature vector length for categorical features: 57\n",
      "Feature vector length for numerical features: 4\n",
      "Total feature vector length: 61\n"
     ]
    }
   ],
   "source": [
    "print(\"Feature vector length for categorical features: %d\" % cat_len)\n",
    "print(\"Feature vector length for numerical features: %d\" % num_len)\n",
    "print(\"Total feature vector length: %d\" % total_len)"
   ]
  },
  {
   "cell_type": "code",
   "execution_count": null,
   "metadata": {},
   "outputs": [],
   "source": [
    "# The next step is to use our extracted mappings to convert the categorical features to binary-encoded features."
   ]
  },
  {
   "cell_type": "code",
   "execution_count": 21,
   "metadata": {},
   "outputs": [],
   "source": [
    "def extract_features(record):\n",
    "    cat_vec = np.zeros(cat_len)\n",
    "    i = 0\n",
    "    step = 0\n",
    "    for field in record[2:9]: # catogorical feature\n",
    "        print('extract_features', i)\n",
    "        m = mappings[i]\n",
    "        idx = m[field]\n",
    "        cat_vec[idx + step] = 1\n",
    "        i = i + 1\n",
    "        step = step + len(m)\n",
    "    num_vec = np.array([float(field) for field in record[10:14]])\n",
    "    return np.concatenate((cat_vec, num_vec))\n",
    "\n"
   ]
  },
  {
   "cell_type": "code",
   "execution_count": 22,
   "metadata": {},
   "outputs": [],
   "source": [
    "# The extract_label function simply converts the last column variable (Revenue) into a float"
   ]
  },
  {
   "cell_type": "code",
   "execution_count": 23,
   "metadata": {},
   "outputs": [],
   "source": [
    "def extract_label(record):\n",
    "    return float(record[-1])"
   ]
  },
  {
   "cell_type": "code",
   "execution_count": null,
   "metadata": {},
   "outputs": [],
   "source": []
  },
  {
   "cell_type": "code",
   "execution_count": null,
   "metadata": {},
   "outputs": [],
   "source": []
  },
  {
   "cell_type": "code",
   "execution_count": 24,
   "metadata": {},
   "outputs": [],
   "source": [
    "#### 2.1 Decision Tree #######"
   ]
  },
  {
   "cell_type": "code",
   "execution_count": 25,
   "metadata": {},
   "outputs": [],
   "source": [
    "# decision tree models typically work on raw features"
   ]
  },
  {
   "cell_type": "code",
   "execution_count": 26,
   "metadata": {},
   "outputs": [],
   "source": [
    "def extract_features_dt(record):\n",
    "    return np.array(map(float, record[2:14]))"
   ]
  },
  {
   "cell_type": "code",
   "execution_count": 27,
   "metadata": {},
   "outputs": [],
   "source": [
    "# Extract the Data so that we are ready for training and prediction on Decision Tree model"
   ]
  },
  {
   "cell_type": "code",
   "execution_count": 28,
   "metadata": {},
   "outputs": [],
   "source": [
    "data_dt = records.map(lambda r: LabeledPoint(extract_label(r), extract_features(r)))"
   ]
  },
  {
   "cell_type": "code",
   "execution_count": 29,
   "metadata": {},
   "outputs": [],
   "source": [
    "# Show the Label and Feature Vector from the Dataset \n",
    "# 2.1.1 Decision Tree Categorical features"
   ]
  },
  {
   "cell_type": "code",
   "execution_count": 30,
   "metadata": {},
   "outputs": [
    {
     "name": "stdout",
     "output_type": "stream",
     "text": [
      "Decision Tree Label: 16.0\n",
      "Decision Tree feature vector: [1.0,0.0,0.0,0.0,1.0,0.0,1.0,0.0,0.0,0.0,0.0,0.0,0.0,0.0,0.0,0.0,0.0,0.0,1.0,0.0,0.0,0.0,0.0,0.0,0.0,0.0,0.0,0.0,0.0,0.0,0.0,0.0,0.0,0.0,0.0,0.0,0.0,0.0,0.0,0.0,0.0,0.0,1.0,0.0,0.0,0.0,0.0,1.0,0.0,0.0,0.0,1.0,0.0,0.0,0.0,0.0,0.0,0.24,0.2879,0.81,0.0]\n",
      "Decision Tree feature vector length: 61\n"
     ]
    }
   ],
   "source": [
    "first_point_dt = data_dt.first()\n",
    "print(\"Decision Tree Label: \" + str(first_point_dt.label))\n",
    "print(\"Decision Tree feature vector: \" + str(first_point_dt.features))\n",
    "print(\"Decision Tree feature vector length: \" + str(len(first_point_dt.features)))"
   ]
  },
  {
   "cell_type": "code",
   "execution_count": 31,
   "metadata": {},
   "outputs": [],
   "source": [
    "# Split the data into training and test sets (30% held out for testing)"
   ]
  },
  {
   "cell_type": "code",
   "execution_count": 32,
   "metadata": {},
   "outputs": [],
   "source": [
    "(trainingData_dt, testData_dt) = data_dt.randomSplit([0.7, 0.3])"
   ]
  },
  {
   "cell_type": "code",
   "execution_count": 33,
   "metadata": {},
   "outputs": [],
   "source": [
    "# Train a DecisionTree model.\n",
    "#  Empty categoricalFeaturesInfo indicates all features are continuous."
   ]
  },
  {
   "cell_type": "code",
   "execution_count": 34,
   "metadata": {},
   "outputs": [],
   "source": [
    "model_dt = DecisionTree.trainRegressor(trainingData_dt, categoricalFeaturesInfo={},\n",
    "                                    impurity='variance', maxDepth=5, maxBins=3000)\n",
    "\n",
    "# Evaluate model on test instances and compute test error\n",
    "predictions_dt = model_dt.predict(testData_dt.map(lambda x: x.features))\n",
    "labelsAndPredictions_dt = testData_dt.map(lambda lp: lp.label).zip(predictions_dt)"
   ]
  },
  {
   "cell_type": "code",
   "execution_count": 35,
   "metadata": {},
   "outputs": [],
   "source": [
    "# dt_model = DecisionTree.trainRegressor(data_dt,{})\n",
    "# preds = dt_model.predict(data_dt.map(lambda p: p.features))\n",
    "# actual = data.map(lambda p: p.label)\n",
    "# true_vs_predicted_dt = actual.zip(preds)"
   ]
  },
  {
   "cell_type": "code",
   "execution_count": 36,
   "metadata": {},
   "outputs": [
    {
     "name": "stdout",
     "output_type": "stream",
     "text": [
      "Learned regression tree model:\n",
      "DecisionTreeModel regressor of depth 5 with 63 nodes\n",
      "  If (feature 58 <= 0.5985)\n",
      "   If (feature 21 <= 0.5)\n",
      "    If (feature 27 <= 0.5)\n",
      "     If (feature 40 <= 0.5)\n",
      "      If (feature 57 <= 0.33)\n",
      "       Predict: 74.63076923076923\n",
      "      Else (feature 57 > 0.33)\n",
      "       Predict: 141.18486882245273\n",
      "     Else (feature 40 > 0.5)\n",
      "      If (feature 57 <= 0.39)\n",
      "       Predict: 226.46762589928056\n",
      "      Else (feature 57 > 0.39)\n",
      "       Predict: 432.37426900584796\n",
      "    Else (feature 27 > 0.5)\n",
      "     If (feature 57 <= 0.51)\n",
      "      If (feature 0 <= 0.5)\n",
      "       Predict: 395.5\n",
      "      Else (feature 0 > 0.5)\n",
      "       Predict: 227.72072072072072\n",
      "     Else (feature 57 > 0.51)\n",
      "      If (feature 4 <= 0.5)\n",
      "       Predict: 651.0731707317074\n",
      "      Else (feature 4 > 0.5)\n",
      "       Predict: 393.21875\n",
      "   Else (feature 21 > 0.5)\n",
      "    If (feature 52 <= 0.5)\n",
      "     If (feature 57 <= 0.41000000000000003)\n",
      "      If (feature 50 <= 0.5)\n",
      "       Predict: 60.656716417910445\n",
      "      Else (feature 50 > 0.5)\n",
      "       Predict: 258.0\n",
      "     Else (feature 57 > 0.41000000000000003)\n",
      "      If (feature 42 <= 0.5)\n",
      "       Predict: 357.0\n",
      "      Else (feature 42 > 0.5)\n",
      "       Predict: 129.41860465116278\n",
      "    Else (feature 52 > 0.5)\n",
      "     If (feature 4 <= 0.5)\n",
      "      If (feature 0 <= 0.5)\n",
      "       Predict: 646.7272727272727\n",
      "      Else (feature 0 > 0.5)\n",
      "       Predict: 459.7692307692308\n",
      "     Else (feature 4 > 0.5)\n",
      "      If (feature 0 <= 0.5)\n",
      "       Predict: 361.6630434782609\n",
      "      Else (feature 0 > 0.5)\n",
      "       Predict: 203.26190476190476\n",
      "  Else (feature 58 > 0.5985)\n",
      "   If (feature 27 <= 0.5)\n",
      "    If (feature 40 <= 0.5)\n",
      "     If (feature 5 <= 0.5)\n",
      "      If (feature 28 <= 0.5)\n",
      "       Predict: 190.00462351387054\n",
      "      Else (feature 28 > 0.5)\n",
      "       Predict: 342.1375\n",
      "     Else (feature 5 > 0.5)\n",
      "      If (feature 59 <= 0.555)\n",
      "       Predict: 368.30223880597015\n",
      "      Else (feature 59 > 0.555)\n",
      "       Predict: 244.49537037037038\n",
      "    Else (feature 40 > 0.5)\n",
      "     If (feature 4 <= 0.5)\n",
      "      If (feature 51 <= 0.5)\n",
      "       Predict: 753.547619047619\n",
      "      Else (feature 51 > 0.5)\n",
      "       Predict: 459.5\n",
      "     Else (feature 4 > 0.5)\n",
      "      If (feature 51 <= 0.5)\n",
      "       Predict: 478.44117647058823\n",
      "      Else (feature 51 > 0.5)\n",
      "       Predict: 331.1290322580645\n",
      "   Else (feature 27 > 0.5)\n",
      "    If (feature 5 <= 0.5)\n",
      "     If (feature 51 <= 0.5)\n",
      "      If (feature 58 <= 0.79545)\n",
      "       Predict: 544.5833333333334\n",
      "      Else (feature 58 > 0.79545)\n",
      "       Predict: 438.8\n",
      "     Else (feature 51 > 0.5)\n",
      "      If (feature 59 <= 0.745)\n",
      "       Predict: 372.7307692307692\n",
      "      Else (feature 59 > 0.745)\n",
      "       Predict: 223.66666666666666\n",
      "    Else (feature 5 > 0.5)\n",
      "     If (feature 52 <= 0.5)\n",
      "      If (feature 58 <= 0.75)\n",
      "       Predict: 537.0769230769231\n",
      "      Else (feature 58 > 0.75)\n",
      "       Predict: 427.8333333333333\n",
      "     Else (feature 52 > 0.5)\n",
      "      If (feature 59 <= 0.665)\n",
      "       Predict: 808.9459459459459\n",
      "      Else (feature 59 > 0.665)\n",
      "       Predict: 573.4285714285714\n",
      "\n"
     ]
    }
   ],
   "source": [
    "print('Learned regression tree model:')\n",
    "print(model_dt.toDebugString())\n"
   ]
  },
  {
   "cell_type": "code",
   "execution_count": 37,
   "metadata": {},
   "outputs": [],
   "source": [
    "# Root Suarred Error\n",
    "def squared_log_error(pred, actual):\n",
    "    return (np.log(pred + 1) - np.log(actual + 1))**2\n",
    "\n",
    "# Aboslute Error\n",
    "def abs_error(actual, pred):\n",
    "     return np.abs(pred - actual)\n",
    "# Mean Squared Error     \n",
    "def squared_error(actual, pred):\n",
    "    return (pred - actual)**2"
   ]
  },
  {
   "cell_type": "code",
   "execution_count": 38,
   "metadata": {},
   "outputs": [],
   "source": [
    "# 2.1.2) Decision Tree Log"
   ]
  },
  {
   "cell_type": "code",
   "execution_count": 39,
   "metadata": {},
   "outputs": [],
   "source": [
    "# testMSE_dt = labelsAndPredictions_dt.map(lambda lp: (lp[0] - lp[1]) * (lp[0] - lp[1])).sum() / float(testData.count())\n",
    "\n",
    "rmsle_dt = np.sqrt(labelsAndPredictions_dt.map(lambda lp: squared_log_error(lp[0], lp[1])).mean())\n",
    "mse = labelsAndPredictions_dt.map(lambda lp: squared_error(lp[0], lp[1])).mean()\n",
    "mae = labelsAndPredictions_dt.map(lambda lp: abs_error(lp[0], lp[1])).mean()\n"
   ]
  },
  {
   "cell_type": "code",
   "execution_count": 40,
   "metadata": {},
   "outputs": [
    {
     "name": "stdout",
     "output_type": "stream",
     "text": [
      "Decision Tree Model - Root Mean Squared Log Error: 1.3300\n",
      "Decision Tree Model - Mean Squared Error: 16794.6977\n",
      "Decision Tree Model - Mean Absolute Error: 99.7752\n"
     ]
    }
   ],
   "source": [
    "print(\"Decision Tree Model - Root Mean Squared Log Error: %2.4f\" % rmsle_dt)\n",
    "print(\"Decision Tree Model - Mean Squared Error: %2.4f\" % mse)\n",
    "print(\"Decision Tree Model - Mean Absolute Error: %2.4f\" % mae)"
   ]
  },
  {
   "cell_type": "code",
   "execution_count": 41,
   "metadata": {},
   "outputs": [
    {
     "data": {
      "image/png": "[encoded data removed]",
      "text/plain": [
       "<matplotlib.figure.Figure at 0x10ea90f60>"
      ]
     },
     "metadata": {},
     "output_type": "display_data"
    }
   ],
   "source": [
    "targets = records.map(lambda r: float(r[-1])).collect()\n",
    "hist(targets, bins=20, color='lightblue', normed=True)\n",
    "fig = matplotlib.pyplot.gcf()\n",
    "fig.set_size_inches(12, 8)"
   ]
  },
  {
   "cell_type": "code",
   "execution_count": 42,
   "metadata": {},
   "outputs": [],
   "source": [
    "# 2.1.3) Decision Tree Max Bins\n",
    "# 2.14) Decision Tree Max Depth"
   ]
  },
  {
   "cell_type": "code",
   "execution_count": 43,
   "metadata": {},
   "outputs": [],
   "source": [
    "# (RMSLE vs MaxDepth) and (RMSLE vs MaxBins) evaluation metric"
   ]
  },
  {
   "cell_type": "code",
   "execution_count": 44,
   "metadata": {},
   "outputs": [],
   "source": [
    "def evaluate_dt(trainData, testData, maxDepthValue, maxBinsValue):\n",
    "    modelDT = DecisionTree.trainRegressor(trainData, categoricalFeaturesInfo={},\n",
    "                                    impurity='variance', maxDepth=maxDepthValue, maxBins=maxBinsValue)\n",
    "\n",
    "    # Evaluate model on test instances and compute test error\n",
    "    predits = modelDT.predict(testData.map(lambda x: x.features))\n",
    "    labelsAndPredicts = testData.map(lambda lp: lp.label).zip(predits)\n",
    "    rmsleDT = np.sqrt(labelsAndPredicts.map(lambda lp: squared_log_error(lp[0], lp[1])).mean())\n",
    "    return rmsleDT"
   ]
  },
  {
   "cell_type": "code",
   "execution_count": 45,
   "metadata": {},
   "outputs": [],
   "source": [
    "# 2.1.3) Decision Tree Max Bins"
   ]
  },
  {
   "cell_type": "code",
   "execution_count": 46,
   "metadata": {},
   "outputs": [
    {
     "name": "stdout",
     "output_type": "stream",
     "text": [
      "[32, 64, 80, 100, 200, 400]\n",
      "[1.3299982650284696, 1.3299736084463309, 1.3299736084463309, 1.3299736084463309, 1.3299736084463309, 1.3299736084463309]\n"
     ]
    }
   ],
   "source": [
    "constantMaxDepthAndBinsParams = [32, 64, 80, 100, 200, 400]\n",
    "\n",
    "metrics = [evaluate_dt(trainingData_dt, testData_dt, 5, param) # constant Max Depth\n",
    "           for param in constantMaxDepthAndBinsParams]\n",
    "print(constantMaxDepthAndBinsParams)\n",
    "print(metrics)"
   ]
  },
  {
   "cell_type": "code",
   "execution_count": 47,
   "metadata": {},
   "outputs": [
    {
     "data": {
      "text/plain": [
       "Text(0,0.5,'RMSLE')"
      ]
     },
     "execution_count": 47,
     "metadata": {},
     "output_type": "execute_result"
    },
    {
     "data": {
      "image/png": "[encoded data removed]",
      "text/plain": [
       "<matplotlib.figure.Figure at 0x10ebfef60>"
      ]
     },
     "metadata": {},
     "output_type": "display_data"
    }
   ],
   "source": [
    "# Plotting : Decision Tree Max Bins\n",
    "plot(constantMaxDepthAndBinsParams, metrics)\n",
    "plt.xlabel('Max Bins')\n",
    "plt.ylabel('RMSLE')"
   ]
  },
  {
   "cell_type": "code",
   "execution_count": 48,
   "metadata": {},
   "outputs": [],
   "source": [
    "# 2.1.4) Decision Tree Max Depth"
   ]
  },
  {
   "cell_type": "code",
   "execution_count": 49,
   "metadata": {},
   "outputs": [
    {
     "name": "stdout",
     "output_type": "stream",
     "text": [
      "[3, 4, 5, 6, 7, 8]\n",
      "[1.4172667298367021, 1.384561221341662, 1.3299736084463309, 1.281410054145026, 1.2386993024618247, 1.188596795315976]\n"
     ]
    }
   ],
   "source": [
    "maxDepthAndConstantBinsParams = [3, 4, 5, 6, 7, 8]\n",
    "\n",
    "metricsMaxDepth = [evaluate_dt(trainingData_dt, testData_dt, param, 150) \n",
    "           for param in maxDepthAndConstantBinsParams]\n",
    "print(maxDepthAndConstantBinsParams)\n",
    "print(metricsMaxDepth)"
   ]
  },
  {
   "cell_type": "code",
   "execution_count": 50,
   "metadata": {},
   "outputs": [
    {
     "data": {
      "text/plain": [
       "Text(0,0.5,'RMSLE')"
      ]
     },
     "execution_count": 50,
     "metadata": {},
     "output_type": "execute_result"
    },
    {
     "data": {
      "image/png": "[encoded data removed]",
      "text/plain": [
       "<matplotlib.figure.Figure at 0x10ec28978>"
      ]
     },
     "metadata": {},
     "output_type": "display_data"
    }
   ],
   "source": [
    "# Plotting : Decision Tree Max Depth\n",
    "plot(maxDepthAndConstantBinsParams, metricsMaxDepth)\n",
    "plt.xlabel('Max Depth')\n",
    "plt.ylabel('RMSLE')"
   ]
  },
  {
   "cell_type": "code",
   "execution_count": null,
   "metadata": {},
   "outputs": [],
   "source": []
  },
  {
   "cell_type": "code",
   "execution_count": null,
   "metadata": {},
   "outputs": [],
   "source": []
  },
  {
   "cell_type": "code",
   "execution_count": 51,
   "metadata": {},
   "outputs": [],
   "source": [
    "# 2.2. Gradient boost tree "
   ]
  },
  {
   "cell_type": "code",
   "execution_count": 52,
   "metadata": {
    "scrolled": true
   },
   "outputs": [
    {
     "name": "stdout",
     "output_type": "stream",
     "text": [
      "Learned regression Gradient boosted tree lmodel:\n",
      "TreeEnsembleModel regressor with 3 trees\n",
      "\n",
      "  Tree 0:\n",
      "    If (feature 58 <= 0.5985)\n",
      "     If (feature 21 <= 0.5)\n",
      "      If (feature 27 <= 0.5)\n",
      "       If (feature 40 <= 0.5)\n",
      "        If (feature 57 <= 0.33)\n",
      "         Predict: 74.63076923076923\n",
      "        Else (feature 57 > 0.33)\n",
      "         Predict: 141.18486882245273\n",
      "       Else (feature 40 > 0.5)\n",
      "        If (feature 57 <= 0.39)\n",
      "         Predict: 226.46762589928056\n",
      "        Else (feature 57 > 0.39)\n",
      "         Predict: 432.37426900584796\n",
      "      Else (feature 27 > 0.5)\n",
      "       If (feature 57 <= 0.51)\n",
      "        If (feature 0 <= 0.5)\n",
      "         Predict: 395.5\n",
      "        Else (feature 0 > 0.5)\n",
      "         Predict: 227.72072072072072\n",
      "       Else (feature 57 > 0.51)\n",
      "        If (feature 4 <= 0.5)\n",
      "         Predict: 651.0731707317074\n",
      "        Else (feature 4 > 0.5)\n",
      "         Predict: 393.21875\n",
      "     Else (feature 21 > 0.5)\n",
      "      If (feature 52 <= 0.5)\n",
      "       If (feature 57 <= 0.41000000000000003)\n",
      "        If (feature 50 <= 0.5)\n",
      "         Predict: 60.656716417910445\n",
      "        Else (feature 50 > 0.5)\n",
      "         Predict: 258.0\n",
      "       Else (feature 57 > 0.41000000000000003)\n",
      "        If (feature 42 <= 0.5)\n",
      "         Predict: 357.0\n",
      "        Else (feature 42 > 0.5)\n",
      "         Predict: 129.41860465116278\n",
      "      Else (feature 52 > 0.5)\n",
      "       If (feature 4 <= 0.5)\n",
      "        If (feature 0 <= 0.5)\n",
      "         Predict: 646.7272727272727\n",
      "        Else (feature 0 > 0.5)\n",
      "         Predict: 459.7692307692308\n",
      "       Else (feature 4 > 0.5)\n",
      "        If (feature 0 <= 0.5)\n",
      "         Predict: 361.6630434782609\n",
      "        Else (feature 0 > 0.5)\n",
      "         Predict: 203.26190476190476\n",
      "    Else (feature 58 > 0.5985)\n",
      "     If (feature 27 <= 0.5)\n",
      "      If (feature 40 <= 0.5)\n",
      "       If (feature 5 <= 0.5)\n",
      "        If (feature 28 <= 0.5)\n",
      "         Predict: 190.00462351387054\n",
      "        Else (feature 28 > 0.5)\n",
      "         Predict: 342.1375\n",
      "       Else (feature 5 > 0.5)\n",
      "        If (feature 59 <= 0.555)\n",
      "         Predict: 368.30223880597015\n",
      "        Else (feature 59 > 0.555)\n",
      "         Predict: 244.49537037037038\n",
      "      Else (feature 40 > 0.5)\n",
      "       If (feature 4 <= 0.5)\n",
      "        If (feature 51 <= 0.5)\n",
      "         Predict: 753.547619047619\n",
      "        Else (feature 51 > 0.5)\n",
      "         Predict: 459.5\n",
      "       Else (feature 4 > 0.5)\n",
      "        If (feature 51 <= 0.5)\n",
      "         Predict: 478.44117647058823\n",
      "        Else (feature 51 > 0.5)\n",
      "         Predict: 331.1290322580645\n",
      "     Else (feature 27 > 0.5)\n",
      "      If (feature 5 <= 0.5)\n",
      "       If (feature 51 <= 0.5)\n",
      "        If (feature 58 <= 0.79545)\n",
      "         Predict: 544.5833333333334\n",
      "        Else (feature 58 > 0.79545)\n",
      "         Predict: 438.8\n",
      "       Else (feature 51 > 0.5)\n",
      "        If (feature 59 <= 0.745)\n",
      "         Predict: 372.7307692307692\n",
      "        Else (feature 59 > 0.745)\n",
      "         Predict: 223.66666666666666\n",
      "      Else (feature 5 > 0.5)\n",
      "       If (feature 52 <= 0.5)\n",
      "        If (feature 58 <= 0.75)\n",
      "         Predict: 537.0769230769231\n",
      "        Else (feature 58 > 0.75)\n",
      "         Predict: 427.8333333333333\n",
      "       Else (feature 52 > 0.5)\n",
      "        If (feature 59 <= 0.665)\n",
      "         Predict: 808.9459459459459\n",
      "        Else (feature 59 > 0.665)\n",
      "         Predict: 573.4285714285714\n",
      "  Tree 1:\n",
      "    If (feature 59 <= 0.735)\n",
      "     If (feature 26 <= 0.5)\n",
      "      If (feature 28 <= 0.5)\n",
      "       If (feature 1 <= 0.5)\n",
      "        If (feature 20 <= 0.5)\n",
      "         Predict: -2.003396584068194\n",
      "        Else (feature 20 > 0.5)\n",
      "         Predict: -257.70219277138034\n",
      "       Else (feature 1 > 0.5)\n",
      "        If (feature 59 <= 0.46499999999999997)\n",
      "         Predict: 226.15237570665812\n",
      "        Else (feature 59 > 0.46499999999999997)\n",
      "         Predict: 64.70117882487853\n",
      "      Else (feature 28 > 0.5)\n",
      "       If (feature 4 <= 0.5)\n",
      "        If (feature 52 <= 0.5)\n",
      "         Predict: 180.1087797951601\n",
      "        Else (feature 52 > 0.5)\n",
      "         Predict: 492.00566644207777\n",
      "       Else (feature 4 > 0.5)\n",
      "        If (feature 52 <= 0.5)\n",
      "         Predict: -4.393595616617953\n",
      "        Else (feature 52 > 0.5)\n",
      "         Predict: 129.53496766051651\n",
      "     Else (feature 26 > 0.5)\n",
      "      If (feature 1 <= 0.5)\n",
      "       If (feature 57 <= 0.41000000000000003)\n",
      "        If (feature 4 <= 0.5)\n",
      "         Predict: 219.78149317125832\n",
      "        Else (feature 4 > 0.5)\n",
      "         Predict: 1.4681428239046193\n",
      "       Else (feature 57 > 0.41000000000000003)\n",
      "        If (feature 52 <= 0.5)\n",
      "         Predict: 371.57075258468194\n",
      "        Else (feature 52 > 0.5)\n",
      "         Predict: 203.18002318592312\n",
      "      Else (feature 1 > 0.5)\n",
      "       If (feature 5 <= 0.5)\n",
      "        If (feature 51 <= 0.5)\n",
      "         Predict: 238.88746057488513\n",
      "        Else (feature 51 > 0.5)\n",
      "         Predict: 387.910648238551\n",
      "       Else (feature 5 > 0.5)\n",
      "        If (feature 57 <= 0.65)\n",
      "         Predict: 563.4561654481357\n",
      "        Else (feature 57 > 0.65)\n",
      "         Predict: 338.4831990839448\n",
      "    Else (feature 59 > 0.735)\n",
      "     If (feature 36 <= 0.5)\n",
      "      If (feature 22 <= 0.5)\n",
      "       If (feature 21 <= 0.5)\n",
      "        If (feature 28 <= 0.5)\n",
      "         Predict: -130.2103503873932\n",
      "        Else (feature 28 > 0.5)\n",
      "         Predict: 104.76217795328525\n",
      "       Else (feature 21 > 0.5)\n",
      "        If (feature 58 <= 0.5985)\n",
      "         Predict: -27.167100632320615\n",
      "        Else (feature 58 > 0.5985)\n",
      "         Predict: 452.7182020412808\n",
      "      Else (feature 22 > 0.5)\n",
      "       If (feature 4 <= 0.5)\n",
      "        If (feature 44 <= 0.5)\n",
      "         Predict: 253.96928533333957\n",
      "        Else (feature 44 > 0.5)\n",
      "         Predict: 34.182277921763365\n",
      "       Else (feature 4 > 0.5)\n",
      "        If (feature 59 <= 0.935)\n",
      "         Predict: 82.87433765879439\n",
      "        Else (feature 59 > 0.935)\n",
      "         Predict: -46.53984357529568\n",
      "     Else (feature 36 > 0.5)\n",
      "      If (feature 52 <= 0.5)\n",
      "       If (feature 58 <= 0.5985)\n",
      "        If (feature 45 <= 0.5)\n",
      "         Predict: -168.4087064613239\n",
      "        Else (feature 45 > 0.5)\n",
      "         Predict: 196.29692902176126\n",
      "       Else (feature 58 > 0.5985)\n",
      "        If (feature 4 <= 0.5)\n",
      "         Predict: -383.6574074074074\n",
      "        Else (feature 4 > 0.5)\n",
      "         Predict: -294.89813591662994\n",
      "      Else (feature 52 > 0.5)\n",
      "       If (feature 5 <= 0.5)\n",
      "        If (feature 0 <= 0.5)\n",
      "         Predict: 211.24131184332688\n",
      "        Else (feature 0 > 0.5)\n",
      "         Predict: 6.1772264845299905\n",
      "       Else (feature 5 > 0.5)\n",
      "        If (feature 59 <= 0.785)\n",
      "         Predict: 595.6418193061959\n",
      "        Else (feature 59 > 0.785)\n",
      "         Predict: 380.21309630232224\n",
      "  Tree 2:\n",
      "    If (feature 33 <= 0.5)\n",
      "     If (feature 34 <= 0.5)\n",
      "      If (feature 20 <= 0.5)\n",
      "       If (feature 32 <= 0.5)\n",
      "        If (feature 19 <= 0.5)\n",
      "         Predict: 55.679000244964016\n",
      "        Else (feature 19 > 0.5)\n",
      "         Predict: -201.0937767966488\n",
      "       Else (feature 32 > 0.5)\n",
      "        If (feature 58 <= 0.5985)\n",
      "         Predict: -176.45088533284678\n",
      "        Else (feature 58 > 0.5985)\n",
      "         Predict: -380.17095798840694\n",
      "      Else (feature 20 > 0.5)\n",
      "       If (feature 57 <= 0.33)\n",
      "        If (feature 1 <= 0.5)\n",
      "         Predict: -99.91290559243079\n",
      "        Else (feature 1 > 0.5)\n",
      "         Predict: -129.01452734281585\n",
      "       Else (feature 57 > 0.33)\n",
      "        If (feature 58 <= 0.5985)\n",
      "         Predict: -239.6771747948519\n",
      "        Else (feature 58 > 0.5985)\n",
      "         Predict: -387.3862746543434\n",
      "     Else (feature 34 > 0.5)\n",
      "      If (feature 58 <= 0.5985)\n",
      "       If (feature 57 <= 0.33)\n",
      "        If (feature 59 <= 0.695)\n",
      "         Predict: -127.59354951731113\n",
      "        Else (feature 59 > 0.695)\n",
      "         Predict: -99.0727377375118\n",
      "       Else (feature 57 > 0.33)\n",
      "        If (feature 52 <= 0.5)\n",
      "         Predict: -246.8244082189268\n",
      "        Else (feature 52 > 0.5)\n",
      "         Predict: -207.7632102789078\n",
      "      Else (feature 58 > 0.5985)\n",
      "       If (feature 5 <= 0.5)\n",
      "        If (feature 51 <= 0.5)\n",
      "         Predict: -314.77193832573295\n",
      "        Else (feature 51 > 0.5)\n",
      "         Predict: -346.28442561614014\n",
      "       Else (feature 5 > 0.5)\n",
      "        If (feature 59 <= 0.535)\n",
      "         Predict: -665.53713162846\n",
      "        Else (feature 59 > 0.535)\n",
      "         Predict: -411.1902229298794\n",
      "    Else (feature 33 > 0.5)\n",
      "     If (feature 58 <= 0.5985)\n",
      "      If (feature 57 <= 0.33)\n",
      "       If (feature 59 <= 0.705)\n",
      "        If (feature 51 <= 0.5)\n",
      "         Predict: -147.22172121537574\n",
      "        Else (feature 51 > 0.5)\n",
      "         Predict: -129.64573226029344\n",
      "       Else (feature 59 > 0.705)\n",
      "        If (feature 51 <= 0.5)\n",
      "         Predict: -118.03196838405981\n",
      "        Else (feature 51 > 0.5)\n",
      "         Predict: -87.69005661935395\n",
      "      Else (feature 57 > 0.33)\n",
      "       If (feature 51 <= 0.5)\n",
      "        If (feature 59 <= 0.735)\n",
      "         Predict: -274.5058713735403\n",
      "        Else (feature 59 > 0.735)\n",
      "         Predict: -245.7721120118713\n",
      "       Else (feature 51 > 0.5)\n",
      "        If (feature 59 <= 0.765)\n",
      "         Predict: -224.55822832442453\n",
      "        Else (feature 59 > 0.765)\n",
      "         Predict: -199.82766756742686\n",
      "     Else (feature 58 > 0.5985)\n",
      "      If (feature 5 <= 0.5)\n",
      "       If (feature 52 <= 0.5)\n",
      "        If (feature 58 <= 0.61365)\n",
      "         Predict: -277.42373325452843\n",
      "        Else (feature 58 > 0.61365)\n",
      "         Predict: -308.7972793216552\n",
      "       Else (feature 52 > 0.5)\n",
      "        If (feature 59 <= 0.695)\n",
      "         Predict: -363.35856771092745\n",
      "        Else (feature 59 > 0.695)\n",
      "         Predict: -343.4671769502624\n",
      "      Else (feature 5 > 0.5)\n",
      "       If (feature 59 <= 0.545)\n",
      "        If (feature 52 <= 0.5)\n",
      "         Predict: -656.2037982951266\n",
      "        Else (feature 52 > 0.5)\n",
      "         Predict: -723.53713162846\n",
      "       Else (feature 59 > 0.545)\n",
      "        If (feature 52 <= 0.5)\n",
      "         Predict: -391.9863426113125\n",
      "        Else (feature 52 > 0.5)\n",
      "         Predict: -460.22355241783276\n",
      "\n"
     ]
    },
    {
     "name": "stdout",
     "output_type": "stream",
     "text": [
      "GradientBoostedTrees Model - Root Mean Squared Log Error: 1.2227\n",
      "GradientBoostedTrees Model - Mean Squared Error: 14062.4351\n",
      "GradientBoostedTrees Model - Mean Absolute Error: 90.1993\n"
     ]
    }
   ],
   "source": [
    "# Train a GradientBoostedTrees model.\n",
    "#  Notes: (a) Empty categoricalFeaturesInfo indicates all features are continuous.\n",
    "#         (b) Use more iterations in practice.\n",
    "\n",
    "model_GBT = GradientBoostedTrees.trainRegressor(trainingData_dt,\n",
    "                                            categoricalFeaturesInfo={}, numIterations=3, maxDepth=5, maxBins=64)\n",
    "\n",
    "predictions_GBT = model_GBT.predict(testData_dt.map(lambda x: x.features))\n",
    "labelsAndPredictions_GBT = testData_dt.map(lambda lp: lp.label).zip(predictions_GBT)\n",
    "\n",
    "print('Learned regression Gradient boosted tree lmodel:')\n",
    "print(model_GBT.toDebugString())\n",
    "\n",
    "rmsle_gbt = np.sqrt(labelsAndPredictions_GBT.map(lambda lp: squared_log_error(lp[0], lp[1])).mean())\n",
    "mse_gbt = labelsAndPredictions_GBT.map(lambda lp: squared_error(lp[0], lp[1])).mean()\n",
    "mae_gbt = labelsAndPredictions_GBT.map(lambda lp: abs_error(lp[0], lp[1])).mean()\n",
    "\n",
    "print(\"GradientBoostedTrees Model - Root Mean Squared Log Error: %2.4f\" % rmsle_gbt)\n",
    "print(\"GradientBoostedTrees Model - Mean Squared Error: %2.4f\" % mse_gbt)\n",
    "print(\"GradientBoostedTrees Model - Mean Absolute Error: %2.4f\" % mae_gbt)"
   ]
  },
  {
   "cell_type": "code",
   "execution_count": 53,
   "metadata": {},
   "outputs": [],
   "source": [
    "# 2.2.1) Gradient boost tree iterations"
   ]
  },
  {
   "cell_type": "code",
   "execution_count": 54,
   "metadata": {},
   "outputs": [],
   "source": [
    "def evaluate_gbt(trainData, testData, numIterationsValue, maxDepthValue, maxBinsValue):\n",
    "    model_GBT = GradientBoostedTrees.trainRegressor(trainData,\n",
    "                                            categoricalFeaturesInfo={}, numIterations=numIterationsValue,\n",
    "                                                    maxDepth=maxDepthValue, maxBins=maxBinsValue)\n",
    "\n",
    "    predictions_GBT = model_GBT.predict(testData.map(lambda x: x.features))\n",
    "    labelsAndPredictions_GBT = testData.map(lambda lp: lp.label).zip(predictions_GBT)\n",
    "    rmsleGBT = np.sqrt(labelsAndPredictions_GBT.map(lambda lp: squared_log_error(lp[0], lp[1])).mean())\n",
    "    return rmsleGBT"
   ]
  },
  {
   "cell_type": "code",
   "execution_count": 55,
   "metadata": {},
   "outputs": [
    {
     "name": "stdout",
     "output_type": "stream",
     "text": [
      "[2, 3, 4]\n",
      "[1.2857819708692249, 1.2176695926314738, 1.1814034780570388]\n"
     ]
    },
    {
     "data": {
      "text/plain": [
       "Text(0,0.5,'RMSLE')"
      ]
     },
     "execution_count": 55,
     "metadata": {},
     "output_type": "execute_result"
    },
    {
     "data": {
      "image/png": "[encoded data removed]",
      "text/plain": [
       "<matplotlib.figure.Figure at 0x10f167fd0>"
      ]
     },
     "metadata": {},
     "output_type": "display_data"
    }
   ],
   "source": [
    "numInterationsParams = [2, 3, 4]\n",
    "\n",
    "metrics_gbt_iterations = [evaluate_gbt(trainingData_dt, testData_dt, param, 5, 32)\n",
    "           for param in numInterationsParams]\n",
    "print(numInterationsParams)\n",
    "print(metrics_gbt_iterations)\n",
    "\n",
    "# Plotting\n",
    "plot(numInterationsParams, metrics_gbt_iterations)\n",
    "plt.xlabel('Iterations log scale')\n",
    "plt.ylabel('RMSLE')"
   ]
  },
  {
   "cell_type": "code",
   "execution_count": null,
   "metadata": {},
   "outputs": [],
   "source": [
    "# 2.2.2) Gradient boost tree Max Bins"
   ]
  },
  {
   "cell_type": "code",
   "execution_count": 56,
   "metadata": {},
   "outputs": [
    {
     "name": "stdout",
     "output_type": "stream",
     "text": [
      "[5, 10, 15]\n",
      "[1.231483599093347, 1.2041713030682992, 1.2254782571630456]\n"
     ]
    },
    {
     "data": {
      "text/plain": [
       "Text(0,0.5,'RMSLE')"
      ]
     },
     "execution_count": 56,
     "metadata": {},
     "output_type": "execute_result"
    },
    {
     "data": {
      "image/png": "[encoded data removed]",
      "text/plain": [
       "<matplotlib.figure.Figure at 0x10f17f400>"
      ]
     },
     "metadata": {},
     "output_type": "display_data"
    }
   ],
   "source": [
    "maxBinsParams = [5, 10, 15]\n",
    "\n",
    "metrics_gbt_maxBins = [evaluate_gbt(trainingData_dt, testData_dt, 3, 5, param)\n",
    "           for param in maxBinsParams]\n",
    "print(maxBinsParams)\n",
    "print(metrics_gbt_maxBins)\n",
    "\n",
    "# Plotting : Decision Tree Max Depth\n",
    "plot(maxBinsParams, metrics_gbt_maxBins)\n",
    "plt.xlabel('Max Bins')\n",
    "plt.ylabel('RMSLE')"
   ]
  },
  {
   "cell_type": "code",
   "execution_count": 57,
   "metadata": {},
   "outputs": [],
   "source": [
    "# 2.2.3) Gradient boost tree Max Depth"
   ]
  },
  {
   "cell_type": "code",
   "execution_count": 58,
   "metadata": {},
   "outputs": [
    {
     "name": "stdout",
     "output_type": "stream",
     "text": [
      "[4, 5, 6]\n",
      "[1.3088304792803007, 1.2176695926314738, 1.1527551333332848]\n"
     ]
    },
    {
     "data": {
      "text/plain": [
       "Text(0,0.5,'RMSLE')"
      ]
     },
     "execution_count": 58,
     "metadata": {},
     "output_type": "execute_result"
    },
    {
     "data": {
      "image/png": "[encoded data removed]",
      "text/plain": [
       "<matplotlib.figure.Figure at 0x10f23c668>"
      ]
     },
     "metadata": {},
     "output_type": "display_data"
    }
   ],
   "source": [
    "maxDepthParams = [4, 5, 6]\n",
    "\n",
    "metrics_gbt_maxDepth = [evaluate_gbt(trainingData_dt, testData_dt, 3, param, 32)\n",
    "           for param in maxDepthParams]\n",
    "print(maxDepthParams)\n",
    "print(metrics_gbt_maxDepth)\n",
    "\n",
    "# Plotting\n",
    "plot(maxDepthParams, metrics_gbt_maxDepth)\n",
    "plt.xlabel('Max Depths')\n",
    "plt.ylabel('RMSLE')"
   ]
  },
  {
   "cell_type": "code",
   "execution_count": 59,
   "metadata": {},
   "outputs": [],
   "source": [
    "# 2.3. Linear regression model"
   ]
  },
  {
   "cell_type": "code",
   "execution_count": 60,
   "metadata": {},
   "outputs": [],
   "source": [
    "# we can proceed with extracting feature vectors and labels from our data records"
   ]
  },
  {
   "cell_type": "code",
   "execution_count": 61,
   "metadata": {},
   "outputs": [],
   "source": [
    "data_linear = records.map(lambda r: LabeledPoint(extract_label(r), extract_features(r)))"
   ]
  },
  {
   "cell_type": "code",
   "execution_count": 62,
   "metadata": {},
   "outputs": [],
   "source": [
    "# Let's inspect the first record in the extracted feature RDD:"
   ]
  },
  {
   "cell_type": "code",
   "execution_count": 63,
   "metadata": {},
   "outputs": [
    {
     "name": "stdout",
     "output_type": "stream",
     "text": [
      "Label: 16.0\n",
      "Linear Model feature vector:\n",
      "[1.0,0.0,0.0,0.0,1.0,0.0,1.0,0.0,0.0,0.0,0.0,0.0,0.0,0.0,0.0,0.0,0.0,0.0,1.0,0.0,0.0,0.0,0.0,0.0,0.0,0.0,0.0,0.0,0.0,0.0,0.0,0.0,0.0,0.0,0.0,0.0,0.0,0.0,0.0,0.0,0.0,0.0,1.0,0.0,0.0,0.0,0.0,1.0,0.0,0.0,0.0,1.0,0.0,0.0,0.0,0.0,0.0,0.24,0.2879,0.81,0.0]\n",
      "Linear Model feature vector length: 61\n"
     ]
    }
   ],
   "source": [
    "first_point = data_linear.first()\n",
    "print(\"Label: \" + str(first_point.label))\n",
    "print(\"Linear Model feature vector:\\n\" + str(first_point.features))\n",
    "print(\"Linear Model feature vector length: \" + str(len(first_point.\n",
    "features)))"
   ]
  },
  {
   "cell_type": "code",
   "execution_count": 64,
   "metadata": {},
   "outputs": [],
   "source": [
    "(trainingData_linear, testData_linear) = data_linear.randomSplit([0.7, 0.3])"
   ]
  },
  {
   "cell_type": "code",
   "execution_count": 16,
   "metadata": {},
   "outputs": [
    {
     "name": "stdout",
     "output_type": "stream",
     "text": [
      "Linear Model predictions: [(595380321.0, 8.7382057804175837e+72), (36869414.0, 1.2136396973989071e+72), (325771424.0, 3.8836470152728108e+72), (542351353.0, 7.6863847121795557e+72), (209035668.0, 1.5372769419272377e+73)]\n"
     ]
    }
   ],
   "source": [
    "model_LR = LinearRegressionWithSGD.train(trainingData_linear, iterations=5, step=0.01)\n",
    "# Building a Regression Model with Spark\n",
    "true_vs_predicted_LR = testData_linear.map(lambda p: (p.label, model_LR.predict(p.features)))\n",
    "print(\"Linear Model predictions: \" + str(true_vs_predicted_LR.take(5)))\n",
    "\n",
    "\n",
    "predictions_linear = model_LR.predict(testData_linear.map(lambda x: x.features))\n",
    "labelsAndPredictions_linear = testData_linear.map(lambda lp: lp.label).zip(predictions_linear)"
   ]
  },
  {
   "cell_type": "code",
   "execution_count": null,
   "metadata": {},
   "outputs": [],
   "source": [
    "# 2.3.1) Linear regression Cross Validation"
   ]
  },
  {
   "cell_type": "code",
   "execution_count": 68,
   "metadata": {},
   "outputs": [
    {
     "name": "stdout",
     "output_type": "stream",
     "text": [
      "Training data size 7562\n",
      "Test data size 3304\n",
      "Total data size 10866\n"
     ]
    }
   ],
   "source": [
    "print('Training data size', trainingData_linear.count())\n",
    "print('Test data size', testData_linear.count())\n",
    "\n",
    "print('Total data size', trainingData_linear.count() + testData_linear.count())\n"
   ]
  },
  {
   "cell_type": "code",
   "execution_count": 70,
   "metadata": {},
   "outputs": [],
   "source": [
    "def evaluate(train, test, iterations, step, regParam, regType, intercept):\n",
    "    model = LinearRegressionWithSGD.train(train, iterations, step, \n",
    "                                          regParam=regParam, regType=regType, intercept=intercept)\n",
    "    tp = test.map(lambda p: (p.label, model.predict(p.features)))\n",
    "    rmsle = np.sqrt(tp.map(lambda lp: squared_log_error(lp[0], lp[1])).mean())\n",
    "    return rmsle"
   ]
  },
  {
   "cell_type": "code",
   "execution_count": 74,
   "metadata": {},
   "outputs": [
    {
     "name": "stdout",
     "output_type": "stream",
     "text": [
      "[True, False]\n",
      "[89.884748649928014, 89.884748534199261]\n"
     ]
    },
    {
     "data": {
      "text/plain": [
       "Text(0,0.5,'RMSLE')"
      ]
     },
     "execution_count": 74,
     "metadata": {},
     "output_type": "execute_result"
    },
    {
     "data": {
      "image/png": "[encoded data removed]",
      "text/plain": [
       "<matplotlib.figure.Figure at 0x10f378dd8>"
      ]
     },
     "metadata": {},
     "output_type": "display_data"
    }
   ],
   "source": [
    "# 2.3.2.1) Intercept\n",
    "\n",
    "params_intercept = [True, False]\n",
    "metrics_intercept = [evaluate(trainingData_linear, testData_linear, 3, 0.01, 0.0, 'l2', param) for param in params_intercept]\n",
    "\n",
    "print(params_intercept)\n",
    "print(metrics_intercept)\n",
    "\n",
    "# Plotting\n",
    "plot(params_intercept, metrics_intercept)\n",
    "plt.xlabel('Intercept')\n",
    "plt.ylabel('RMSLE')"
   ]
  },
  {
   "cell_type": "code",
   "execution_count": 88,
   "metadata": {},
   "outputs": [
    {
     "name": "stdout",
     "output_type": "stream",
     "text": [
      "[1, 3, 6]\n",
      "[31.282585328149491, 89.884748534199261, nan]\n"
     ]
    },
    {
     "data": {
      "text/plain": [
       "Text(0,0.5,'RMSLE')"
      ]
     },
     "execution_count": 88,
     "metadata": {},
     "output_type": "execute_result"
    },
    {
     "data": {
      "image/png": "[encoded data removed]",
      "text/plain": [
       "<matplotlib.figure.Figure at 0x10fcdb198>"
      ]
     },
     "metadata": {},
     "output_type": "display_data"
    }
   ],
   "source": [
    "# 2.3.2.2) Iterations\n",
    "\n",
    "params_iterations = [1, 3, 6]\n",
    "metrics_iterations = [evaluate(trainingData_linear, testData_linear, param, 0.01, 0.0, 'l2', False) for param in params_iterations]\n",
    "\n",
    "print(params_iterations)\n",
    "print(metrics_iterations)\n",
    "\n",
    "# Plotting\n",
    "plot(params_iterations, metrics_iterations)\n",
    "plt.xlabel('Iterations')\n",
    "plt.ylabel('RMSLE')"
   ]
  },
  {
   "cell_type": "code",
   "execution_count": 78,
   "metadata": {},
   "outputs": [
    {
     "name": "stdout",
     "output_type": "stream",
     "text": [
      "[0.01, 0.025, 0.05, 0.1, 1.0]\n",
      "[89.884748534199261, 92.622596281050932, 94.69412252509683, 96.765988312030728, 103.65075559271362]\n"
     ]
    },
    {
     "data": {
      "text/plain": [
       "Text(0,0.5,'RMSLE')"
      ]
     },
     "execution_count": 78,
     "metadata": {},
     "output_type": "execute_result"
    },
    {
     "data": {
      "image/png": "[encoded data removed]",
      "text/plain": [
       "<matplotlib.figure.Figure at 0x10f83ff60>"
      ]
     },
     "metadata": {},
     "output_type": "display_data"
    }
   ],
   "source": [
    "# 2.3.2.3) Step size\n",
    "\n",
    "params_step = [0.01, 0.025, 0.05, 0.1, 1.0]\n",
    "metrics_step = [evaluate(trainingData_linear, testData_linear, 3, param, 0.0, 'l2', False) for param in params_step]\n",
    "\n",
    "print(params_step)\n",
    "print(metrics_step)\n",
    "\n",
    "# Plotting\n",
    "plot(params_step, metrics_step)\n",
    "plt.xlabel('Step')\n",
    "plt.ylabel('RMSLE')"
   ]
  },
  {
   "cell_type": "code",
   "execution_count": 79,
   "metadata": {},
   "outputs": [
    {
     "name": "stdout",
     "output_type": "stream",
     "text": [
      "[0.0, 0.01, 0.1, 1.0, 10.0, 100.0]\n",
      "[89.884748534199261, 89.884748534199261, 89.884748534199261, 89.884748534199261, 89.884748534199247, 89.884748534199218]\n"
     ]
    },
    {
     "data": {
      "text/plain": [
       "Text(0,0.5,'RMSLE')"
      ]
     },
     "execution_count": 79,
     "metadata": {},
     "output_type": "execute_result"
    },
    {
     "data": {
      "image/png": "[encoded data removed]",
      "text/plain": [
       "<matplotlib.figure.Figure at 0x10f9d7710>"
      ]
     },
     "metadata": {},
     "output_type": "display_data"
    }
   ],
   "source": [
    "# 2.3.2.4) L1 Regularization\n",
    "\n",
    "params_l1 = params = [0.0, 0.01, 0.1, 1.0, 10.0, 100.0]\n",
    "metrics_l1 = [evaluate(trainingData_linear, testData_linear, 3, 0.01, param, 'l1', False) for param in params_l1]\n",
    "\n",
    "print(params_l1)\n",
    "print(metrics_l1)\n",
    "\n",
    "# Plotting\n",
    "plot(params_l1, metrics_l1)\n",
    "plt.xlabel('L1 Regularization')\n",
    "plt.ylabel('RMSLE')\n"
   ]
  },
  {
   "cell_type": "code",
   "execution_count": 82,
   "metadata": {},
   "outputs": [
    {
     "name": "stdout",
     "output_type": "stream",
     "text": [
      "[0.0, 0.01, 0.1, 1.0, 5.0, 10.0]\n",
      "[148.44956842510899, 148.44956842510899, 148.44956842510899, 148.44956842510899, 148.44956842510899, 148.44956842510902]\n"
     ]
    },
    {
     "data": {
      "text/plain": [
       "Text(0,0.5,'RMSLE')"
      ]
     },
     "execution_count": 82,
     "metadata": {},
     "output_type": "execute_result"
    },
    {
     "data": {
      "image/png": "[encoded data removed]",
      "text/plain": [
       "<matplotlib.figure.Figure at 0x10fc2b470>"
      ]
     },
     "metadata": {},
     "output_type": "display_data"
    }
   ],
   "source": [
    "# 2.3.2.4) L2 Regularization\n",
    "\n",
    "params_l2 = params = [0.0, 0.01, 0.1, 1.0, 5.0, 10.0]\n",
    "metrics_l2 = [evaluate(trainingData_linear, testData_linear, 5, 0.01, param, 'l2', False) for param in params_l2]\n",
    "\n",
    "print(params_l2)\n",
    "print(metrics_l2)\n",
    "\n",
    "# Plotting\n",
    "plot(params_l2, metrics_l2)\n",
    "plt.xlabel('L2 Regularization')\n",
    "plt.ylabel('RMSLE')"
   ]
  },
  {
   "cell_type": "code",
   "execution_count": 17,
   "metadata": {},
   "outputs": [
    {
     "name": "stdout",
     "output_type": "stream",
     "text": [
      "LinearRegression Root Mean Squared Log Error: 148.3264\n",
      "LinearRegression - Mean Squared Error: 6383601835483873906576159338040712415169926956325985980251688671301791433332872461139826715110840477293166869265317180303926664237529123111567360.0000\n",
      "LinearRegression - Mean Absolute Error: 1070526403053328032556967594394421368909173562377140919628164074068508672.0000\n"
     ]
    }
   ],
   "source": [
    "# 2.3.3) Linear regression Log\n",
    "\n",
    "rmsle_lr = np.sqrt(labelsAndPredictions_linear.map(lambda lp: squared_log_error(lp[0], lp[1])).mean())\n",
    "mse_lr = labelsAndPredictions_linear.map(lambda lp: squared_error(lp[0], lp[1])).mean()\n",
    "mae_lr = labelsAndPredictions_linear.map(lambda lp: abs_error(lp[0], lp[1])).mean()\n",
    "\n",
    "print(\"LinearRegression Root Mean Squared Log Error: %2.4f\" % rmsle_lr)\n",
    "print(\"LinearRegression - Mean Squared Error: %2.4f\" % mse_lr)\n",
    "print(\"LinearRegression - Mean Absolute Error: %2.4f\" % mae_lr)"
   ]
  },
  {
   "cell_type": "code",
   "execution_count": null,
   "metadata": {},
   "outputs": [],
   "source": []
  }
 ],
 "metadata": {
  "kernelspec": {
   "display_name": "Python 3",
   "language": "python",
   "name": "python3"
  },
  "language_info": {
   "codemirror_mode": {
    "name": "ipython",
    "version": 3
   },
   "file_extension": ".py",
   "mimetype": "text/x-python",
   "name": "python",
   "nbconvert_exporter": "python",
   "pygments_lexer": "ipython3",
   "version": "3.6.2"
  }
 },
 "nbformat": 4,
 "nbformat_minor": 2
}
